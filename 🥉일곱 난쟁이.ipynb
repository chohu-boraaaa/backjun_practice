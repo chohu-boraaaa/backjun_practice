{
 "cells": [
  {
   "cell_type": "code",
   "execution_count": 18,
   "id": "5c83d1f1",
   "metadata": {
    "scrolled": false
   },
   "outputs": [
    {
     "name": "stdout",
     "output_type": "stream",
     "text": [
      "20\n",
      "7\n",
      "23\n",
      "19\n",
      "10\n",
      "15\n",
      "25\n",
      "8\n",
      "13\n",
      "7\n",
      "8\n",
      "10\n",
      "13\n",
      "19\n",
      "20\n",
      "23\n"
     ]
    }
   ],
   "source": [
    "# 입력\n",
    "dwarf = [int(input()) for _ in range(9)]\n",
    "# 결과 넣어줄 리스트\n",
    "result = []\n",
    "\n",
    "# 여러가지 경우의 수(2개 씩 빼기) 각각의 합이 100이 되는지 확인\n",
    "\n",
    "# 2개 조합 제거해보기\n",
    "for i in range(0,8):\n",
    "    for j in range(i+1,9):\n",
    "        a = dwarf.copy()\n",
    "        a.remove(dwarf[i])\n",
    "        a.remove(dwarf[j])\n",
    "        # 총합이 100인 것만 리스트 저장\n",
    "        if sum(a) == 100:\n",
    "            result.append(a)\n",
    "\n",
    "# 출력은 리스트에서 하나씩 print 하기\n",
    "for i in sorted(result[0]):\n",
    "    print(i)"
   ]
  },
  {
   "cell_type": "code",
   "execution_count": null,
   "id": "413b4876",
   "metadata": {},
   "outputs": [],
   "source": [
    "0 : 1,2,3,4,5,6,7,8\n",
    "1 : 2,3,4,5,6,7,8\n",
    "2 : 3,4,5,6,7,8\n",
    "3 : 4,5,6,7,8\n",
    "4 : 5,6,7,8\n",
    "5 : 6,7,8\n",
    "6 : 7,8\n",
    "7 : 8\n",
    "    \n",
    "    20\n",
    "7\n",
    "23\n",
    "19\n",
    "10\n",
    "15\n",
    "25\n",
    "8\n",
    "13"
   ]
  }
 ],
 "metadata": {
  "kernelspec": {
   "display_name": "Python 3 (ipykernel)",
   "language": "python",
   "name": "python3"
  },
  "language_info": {
   "codemirror_mode": {
    "name": "ipython",
    "version": 3
   },
   "file_extension": ".py",
   "mimetype": "text/x-python",
   "name": "python",
   "nbconvert_exporter": "python",
   "pygments_lexer": "ipython3",
   "version": "3.9.12"
  }
 },
 "nbformat": 4,
 "nbformat_minor": 5
}
