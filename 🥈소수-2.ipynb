{
 "cells": [
  {
   "cell_type": "code",
   "execution_count": 40,
   "id": "b0aa4f09",
   "metadata": {},
   "outputs": [
    {
     "name": "stdout",
     "output_type": "stream",
     "text": [
      "60\n",
      "100\n",
      "620\n",
      "61\n"
     ]
    }
   ],
   "source": [
    "M = int(input())\n",
    "N = int(input())\n",
    "\n",
    "nums = [i for i in range(M, N+1)]\n",
    "\n",
    "# 소수인지 판단하는 함수\n",
    "def sosu(num):\n",
    "    yaksu = 0\n",
    "    for i in range(1, num+1):\n",
    "        if num % i == 0:\n",
    "            yaksu += 1\n",
    "        if yaksu >= 3: # yaksu가 3이상부터는 반복문 안돌도록\n",
    "            break\n",
    "    if yaksu == 2:\n",
    "        return True\n",
    "    else:\n",
    "        return False\n",
    "\n",
    "sosu = [i for i in nums if sosu(i)]\n",
    "if len(sosu) == 0:\n",
    "    print(-1)\n",
    "else:\n",
    "    print(sum(sosu))\n",
    "    print(min(sosu))"
   ]
  },
  {
   "cell_type": "markdown",
   "id": "a98a11bf",
   "metadata": {},
   "source": [
    "# 참고) 소수 효율성 있게 구하는 방법\n",
    "\n",
    "# 에라토스테네스의 체\n",
    "\n",
    "출처 : https://wikidocs.net/21638\n",
    "\n",
    "## 범위에서 합성수를 지우는 방식으로 소수를 찾는 법\n",
    "\n",
    "### 1. 1 제거\n",
    "### 2. 2빼고 2의 배수 제거\n",
    "### 3. 3빼고 3의 배수 제거\n",
    "### ... 이렇게 반복"
   ]
  },
  {
   "cell_type": "code",
   "execution_count": 54,
   "id": "955c8707",
   "metadata": {},
   "outputs": [
    {
     "name": "stdout",
     "output_type": "stream",
     "text": [
      "64\n",
      "65\n",
      "-1\n"
     ]
    }
   ],
   "source": [
    "M = int(input())\n",
    "n = int(input())\n",
    "a = [False,False] + [True]*(n-1)\n",
    "primes=[]\n",
    "\n",
    "for i in range(2,n+1):\n",
    "  if a[i]:\n",
    "    primes.append(i)\n",
    "    for j in range(2*i, n+1, i):\n",
    "        a[j] = False\n",
    "primes = [i for i in primes if i >= M]\n",
    "if len(primes) == 0:\n",
    "    print(-1)\n",
    "else:\n",
    "    print(sum(primes))\n",
    "    print(min(primes))"
   ]
  },
  {
   "cell_type": "code",
   "execution_count": null,
   "id": "4a610307",
   "metadata": {},
   "outputs": [],
   "source": []
  }
 ],
 "metadata": {
  "kernelspec": {
   "display_name": "Python 3 (ipykernel)",
   "language": "python",
   "name": "python3"
  },
  "language_info": {
   "codemirror_mode": {
    "name": "ipython",
    "version": 3
   },
   "file_extension": ".py",
   "mimetype": "text/x-python",
   "name": "python",
   "nbconvert_exporter": "python",
   "pygments_lexer": "ipython3",
   "version": "3.9.12"
  }
 },
 "nbformat": 4,
 "nbformat_minor": 5
}
