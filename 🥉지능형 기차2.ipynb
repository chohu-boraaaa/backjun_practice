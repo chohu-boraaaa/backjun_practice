{
 "cells": [
  {
   "cell_type": "code",
   "execution_count": 15,
   "id": "ce564e8f",
   "metadata": {},
   "outputs": [
    {
     "name": "stdout",
     "output_type": "stream",
     "text": [
      "0 32\n",
      "3 13\n",
      "28 25\n",
      "17 5\n",
      "21 20\n",
      "11 0\n",
      "12 12\n",
      "4 2\n",
      "0 8\n",
      "21 0\n",
      "42\n"
     ]
    }
   ],
   "source": [
    "train = []\n",
    "people = 0\n",
    "while(True):\n",
    "    off, on = map(int, input().split())\n",
    "    people -= off\n",
    "    people += on\n",
    "    train.append(people)\n",
    "    if len(train) == 10:\n",
    "        break\n",
    "print(max(train))"
   ]
  }
 ],
 "metadata": {
  "kernelspec": {
   "display_name": "Python 3 (ipykernel)",
   "language": "python",
   "name": "python3"
  },
  "language_info": {
   "codemirror_mode": {
    "name": "ipython",
    "version": 3
   },
   "file_extension": ".py",
   "mimetype": "text/x-python",
   "name": "python",
   "nbconvert_exporter": "python",
   "pygments_lexer": "ipython3",
   "version": "3.9.12"
  }
 },
 "nbformat": 4,
 "nbformat_minor": 5
}
