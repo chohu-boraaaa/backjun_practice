{
 "cells": [
  {
   "cell_type": "code",
   "execution_count": 27,
   "id": "d59a011b",
   "metadata": {},
   "outputs": [
    {
     "name": "stdout",
     "output_type": "stream",
     "text": [
      "2735 1\n",
      "1\n"
     ]
    }
   ],
   "source": [
    "p, q = map(int, input().split())\n",
    "\n",
    "num = []\n",
    "\n",
    "def search_num(N,K):\n",
    "    for i in range(1,N+1):\n",
    "        if N % i == 0 :\n",
    "            num.append(i)\n",
    "    \n",
    "    if len(num) < K:\n",
    "        return 0\n",
    "    \n",
    "    else:\n",
    "        return num[K-1]\n",
    "\n",
    "print(search_num(p, q))"
   ]
  }
 ],
 "metadata": {
  "kernelspec": {
   "display_name": "Python 3 (ipykernel)",
   "language": "python",
   "name": "python3"
  },
  "language_info": {
   "codemirror_mode": {
    "name": "ipython",
    "version": 3
   },
   "file_extension": ".py",
   "mimetype": "text/x-python",
   "name": "python",
   "nbconvert_exporter": "python",
   "pygments_lexer": "ipython3",
   "version": "3.7.13"
  }
 },
 "nbformat": 4,
 "nbformat_minor": 5
}
