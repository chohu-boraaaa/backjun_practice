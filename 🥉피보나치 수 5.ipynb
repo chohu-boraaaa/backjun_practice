{
 "cells": [
  {
   "cell_type": "code",
   "execution_count": 9,
   "id": "098f5d7b",
   "metadata": {},
   "outputs": [
    {
     "name": "stdout",
     "output_type": "stream",
     "text": [
      "10\n",
      "55\n"
     ]
    }
   ],
   "source": [
    "num = int(input())\n",
    "result = [0,1] + [0 for i in range(num-1)]\n",
    "\n",
    "# 입력 숫자가 0 일때\n",
    "def fibonacci(number, res):\n",
    "    if number == 0:\n",
    "        return 0\n",
    "    # 입력 숫자가 1 일때\n",
    "    elif number == 1:\n",
    "        return 1\n",
    "    # 입력 숫자가 2 이상일 때\n",
    "    else:\n",
    "        i = 2\n",
    "        while(i <= number):\n",
    "            res[i] = res[i-2] + res[i-1]\n",
    "            i += 1\n",
    "        return res[-1]\n",
    "    \n",
    "print(fibonacci(num, result))"
   ]
  },
  {
   "cell_type": "code",
   "execution_count": null,
   "id": "6f71de0b",
   "metadata": {},
   "outputs": [],
   "source": []
  }
 ],
 "metadata": {
  "kernelspec": {
   "display_name": "Python 3 (ipykernel)",
   "language": "python",
   "name": "python3"
  },
  "language_info": {
   "codemirror_mode": {
    "name": "ipython",
    "version": 3
   },
   "file_extension": ".py",
   "mimetype": "text/x-python",
   "name": "python",
   "nbconvert_exporter": "python",
   "pygments_lexer": "ipython3",
   "version": "3.9.12"
  }
 },
 "nbformat": 4,
 "nbformat_minor": 5
}
