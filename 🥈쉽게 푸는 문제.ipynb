{
 "cells": [
  {
   "cell_type": "code",
   "execution_count": 14,
   "id": "b5b499f9",
   "metadata": {},
   "outputs": [
    {
     "name": "stdout",
     "output_type": "stream",
     "text": [
      "3 7\n",
      "15\n"
     ]
    }
   ],
   "source": [
    "A, B = list(map(int, input().split()))\n",
    "\n",
    "nums = []\n",
    "num = 1\n",
    "new_B = B\n",
    "\n",
    "while(True):\n",
    "    new_B = new_B - num\n",
    "    if new_B <= 0:\n",
    "        nums += [num for i in range(1, new_B+num+1)]\n",
    "        break\n",
    "    else:\n",
    "        nums += [num for i in range(1,num+1)]\n",
    "    num += 1\n",
    "    \n",
    "result = 0\n",
    "\n",
    "for i in range(A-1, B):\n",
    "    result += nums[i]\n",
    "\n",
    "print(result)"
   ]
  },
  {
   "cell_type": "code",
   "execution_count": 17,
   "id": "4e4f160e",
   "metadata": {},
   "outputs": [
    {
     "name": "stdout",
     "output_type": "stream",
     "text": [
      "3 7\n",
      "15\n"
     ]
    }
   ],
   "source": [
    "# 다른 사람 풀이\n",
    "A, B = list(map(int, input().split()))\n",
    "\n",
    "nums = []\n",
    "for i in range(1, B+1):\n",
    "    nums += [i] * i\n",
    "\n",
    "print(sum(nums[A-1:B]))"
   ]
  },
  {
   "cell_type": "code",
   "execution_count": null,
   "id": "5c2e9165",
   "metadata": {},
   "outputs": [],
   "source": []
  }
 ],
 "metadata": {
  "kernelspec": {
   "display_name": "Python 3 (ipykernel)",
   "language": "python",
   "name": "python3"
  },
  "language_info": {
   "codemirror_mode": {
    "name": "ipython",
    "version": 3
   },
   "file_extension": ".py",
   "mimetype": "text/x-python",
   "name": "python",
   "nbconvert_exporter": "python",
   "pygments_lexer": "ipython3",
   "version": "3.9.12"
  }
 },
 "nbformat": 4,
 "nbformat_minor": 5
}
