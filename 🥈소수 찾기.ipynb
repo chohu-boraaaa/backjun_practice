{
 "cells": [
  {
   "cell_type": "code",
   "execution_count": 11,
   "id": "3a2fef14",
   "metadata": {},
   "outputs": [
    {
     "name": "stdout",
     "output_type": "stream",
     "text": [
      "4\n",
      "1 3 5 7\n",
      "3\n"
     ]
    }
   ],
   "source": [
    "T = int(input())\n",
    "nums = list(map(int, input().split()))\n",
    "\n",
    "sosu = 0\n",
    "for num in nums:\n",
    "    yaksu = []\n",
    "    for i in range(1, num+1):\n",
    "        if num % i == 0:\n",
    "            yaksu.append(i)\n",
    "    if len(yaksu) == 2:\n",
    "        sosu += 1\n",
    "\n",
    "print(sosu)"
   ]
  },
  {
   "cell_type": "code",
   "execution_count": null,
   "id": "57facd7a",
   "metadata": {},
   "outputs": [],
   "source": []
  }
 ],
 "metadata": {
  "kernelspec": {
   "display_name": "Python 3 (ipykernel)",
   "language": "python",
   "name": "python3"
  },
  "language_info": {
   "codemirror_mode": {
    "name": "ipython",
    "version": 3
   },
   "file_extension": ".py",
   "mimetype": "text/x-python",
   "name": "python",
   "nbconvert_exporter": "python",
   "pygments_lexer": "ipython3",
   "version": "3.9.12"
  }
 },
 "nbformat": 4,
 "nbformat_minor": 5
}
