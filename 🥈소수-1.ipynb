{
 "cells": [
  {
   "cell_type": "code",
   "execution_count": 9,
   "id": "770856ea",
   "metadata": {},
   "outputs": [
    {
     "name": "stdout",
     "output_type": "stream",
     "text": [
      "1\n",
      "10000\n",
      "5736396\n",
      "2\n"
     ]
    }
   ],
   "source": [
    "M = int(input())\n",
    "N = int(input())\n",
    "nums = [i for i in range(M, N+1)]\n",
    "sosu = []\n",
    "for num in nums:\n",
    "    yaksu = []\n",
    "    for i in range(1, num+1):\n",
    "        if num % i == 0:\n",
    "            yaksu.append(i)\n",
    "    if len(yaksu) == 2:\n",
    "        sosu.append(num)\n",
    "if len(sosu) == 0:\n",
    "    print(-1)\n",
    "else:\n",
    "    print(sum(sosu))\n",
    "    print(min(sosu))"
   ]
  },
  {
   "cell_type": "code",
   "execution_count": null,
   "id": "78fc7068",
   "metadata": {},
   "outputs": [],
   "source": []
  }
 ],
 "metadata": {
  "kernelspec": {
   "display_name": "Python 3 (ipykernel)",
   "language": "python",
   "name": "python3"
  },
  "language_info": {
   "codemirror_mode": {
    "name": "ipython",
    "version": 3
   },
   "file_extension": ".py",
   "mimetype": "text/x-python",
   "name": "python",
   "nbconvert_exporter": "python",
   "pygments_lexer": "ipython3",
   "version": "3.9.12"
  }
 },
 "nbformat": 4,
 "nbformat_minor": 5
}
