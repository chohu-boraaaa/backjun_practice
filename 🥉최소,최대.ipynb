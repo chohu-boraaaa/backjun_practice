{
 "cells": [
  {
   "cell_type": "code",
   "execution_count": 19,
   "id": "af2f2641",
   "metadata": {},
   "outputs": [
    {
     "name": "stdout",
     "output_type": "stream",
     "text": [
      "5\n",
      "20 10 35 30 7\n",
      "7 35\n"
     ]
    }
   ],
   "source": [
    "N = int(input())\n",
    "input_num = list(map(int, input().split()))\n",
    "\n",
    "def what_is_min(input_list):\n",
    "    min_num = input_list[0]\n",
    "    for i in range(1, len(input_list)):\n",
    "        if input_list[i] < min_num:\n",
    "            min_num = input_list[i]\n",
    "    return min_num\n",
    "\n",
    "def what_is_max(input_list):\n",
    "    max_num = input_list[0]\n",
    "    for i in range(1, len(input_list)):\n",
    "        if input_list[i] > max_num:\n",
    "            max_num = input_list[i]\n",
    "    return max_num\n",
    "\n",
    "print(what_is_min(input_num), what_is_max(input_num))"
   ]
  }
 ],
 "metadata": {
  "kernelspec": {
   "display_name": "Python 3 (ipykernel)",
   "language": "python",
   "name": "python3"
  },
  "language_info": {
   "codemirror_mode": {
    "name": "ipython",
    "version": 3
   },
   "file_extension": ".py",
   "mimetype": "text/x-python",
   "name": "python",
   "nbconvert_exporter": "python",
   "pygments_lexer": "ipython3",
   "version": "3.7.13"
  }
 },
 "nbformat": 4,
 "nbformat_minor": 5
}
