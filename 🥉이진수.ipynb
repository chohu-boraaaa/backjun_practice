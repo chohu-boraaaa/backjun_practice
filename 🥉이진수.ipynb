{
 "cells": [
  {
   "cell_type": "code",
   "execution_count": 161,
   "id": "8544b634",
   "metadata": {},
   "outputs": [
    {
     "name": "stdout",
     "output_type": "stream",
     "text": [
      "2\n",
      "13\n",
      "0 2 3 \n",
      "1\n",
      "0 \n"
     ]
    }
   ],
   "source": [
    "T = int(input())\n",
    "\n",
    "def binary_num(num, add_num):\n",
    "    while(True):\n",
    "        if num == 1:\n",
    "            add_num.append(1)\n",
    "            break\n",
    "        elif int(num / 2) == 1:\n",
    "            add_num.append(num % 2)\n",
    "            add_num.append(int(num/2))\n",
    "            break\n",
    "        else:\n",
    "            add_num.append(num % 2)\n",
    "            num = int(num / 2)\n",
    "    return [i for i, v in enumerate(add_num) if v == 1]\n",
    "\n",
    "while(T>0):\n",
    "    add_num = []\n",
    "    output = sorted(binary_num(int(input()), add_num))\n",
    "    for i in output:\n",
    "        print(i, end = ' ')\n",
    "    print(end = '\\n')\n",
    "    T -= 1"
   ]
  }
 ],
 "metadata": {
  "kernelspec": {
   "display_name": "Python 3 (ipykernel)",
   "language": "python",
   "name": "python3"
  },
  "language_info": {
   "codemirror_mode": {
    "name": "ipython",
    "version": 3
   },
   "file_extension": ".py",
   "mimetype": "text/x-python",
   "name": "python",
   "nbconvert_exporter": "python",
   "pygments_lexer": "ipython3",
   "version": "3.7.13"
  }
 },
 "nbformat": 4,
 "nbformat_minor": 5
}
