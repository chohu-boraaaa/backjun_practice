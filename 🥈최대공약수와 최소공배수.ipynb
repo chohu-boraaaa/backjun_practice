{
 "cells": [
  {
   "cell_type": "code",
   "execution_count": 17,
   "id": "6ce97e06",
   "metadata": {},
   "outputs": [
    {
     "name": "stdout",
     "output_type": "stream",
     "text": [
      "24 18\n",
      "6\n",
      "72\n"
     ]
    }
   ],
   "source": [
    "a, b = map(int, input().split())\n",
    "\n",
    "def multiple(number_list):\n",
    "    result = 1\n",
    "    if len(number_list) == 0:\n",
    "        return 0\n",
    "    else:\n",
    "        for num in number_list:\n",
    "            result *= num\n",
    "        return result\n",
    "\n",
    "def solution(a_, b_):\n",
    "    numbers = []\n",
    "    for i in range(max(a_, b_), 1, -1):\n",
    "        if a_ % i == 0 and b_ % i == 0:\n",
    "            numbers.append(i)\n",
    "            a_ = a_ // i\n",
    "            b_ = b_ // i\n",
    "    numbers.append(a_)\n",
    "    numbers.append(b_)\n",
    "    \n",
    "    if len(numbers) == 2:\n",
    "        print(1)\n",
    "        print(multiple(numbers))\n",
    "    else :\n",
    "        new_num = numbers.copy()\n",
    "        new_num.remove(new_num[-1])\n",
    "        new_num.remove(new_num[-1])\n",
    "        print(multiple(new_num))\n",
    "        print(multiple(numbers))\n",
    "\n",
    "solution(a, b)"
   ]
  },
  {
   "cell_type": "code",
   "execution_count": null,
   "id": "a151eb98",
   "metadata": {},
   "outputs": [],
   "source": []
  }
 ],
 "metadata": {
  "kernelspec": {
   "display_name": "Python 3 (ipykernel)",
   "language": "python",
   "name": "python3"
  },
  "language_info": {
   "codemirror_mode": {
    "name": "ipython",
    "version": 3
   },
   "file_extension": ".py",
   "mimetype": "text/x-python",
   "name": "python",
   "nbconvert_exporter": "python",
   "pygments_lexer": "ipython3",
   "version": "3.9.12"
  }
 },
 "nbformat": 4,
 "nbformat_minor": 5
}
